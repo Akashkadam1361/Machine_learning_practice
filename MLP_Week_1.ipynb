{
  "nbformat": 4,
  "nbformat_minor": 0,
  "metadata": {
    "colab": {
      "provenance": [],
      "collapsed_sections": [],
      "authorship_tag": "ABX9TyNd7O/Ek69Ma89/2mWDhgT/",
      "include_colab_link": true
    },
    "kernelspec": {
      "name": "python3",
      "display_name": "Python 3"
    },
    "language_info": {
      "name": "python"
    }
  },
  "cells": [
    {
      "cell_type": "markdown",
      "metadata": {
        "id": "view-in-github",
        "colab_type": "text"
      },
      "source": [
        "<a href=\"https://colab.research.google.com/github/Akashkadam1361/Machine_learning_practice/blob/main/MLP_Week_1.ipynb\" target=\"_parent\"><img src=\"https://colab.research.google.com/assets/colab-badge.svg\" alt=\"Open In Colab\"/></a>"
      ]
    },
    {
      "cell_type": "markdown",
      "source": [
        "Excellent wine company wants to develop ML model for predicting wine\n",
        "quality on certain physiochemical characteristics in order to replace\n",
        "expensive quality sensor"
      ],
      "metadata": {
        "id": "BshOjjA7GIJA"
      }
    },
    {
      "cell_type": "code",
      "execution_count": null,
      "metadata": {
        "id": "Zpu_LdoqDhrF"
      },
      "outputs": [],
      "source": [
        "import numpy as np\n",
        "import pandas as pd\n",
        "import seaborn as sns\n",
        "import matplotlib.pyplot as plt"
      ]
    },
    {
      "cell_type": "code",
      "source": [
        "data_url = 'https://archive.ics.uci.edu/ml/machine-learning-databases/wine-quality/winequality-red.csv'\n",
        "data = pd.read_csv(data_url, sep=';')"
      ],
      "metadata": {
        "id": "SMIbeX6EFjsp"
      },
      "execution_count": null,
      "outputs": []
    },
    {
      "cell_type": "code",
      "source": [
        "data.head()"
      ],
      "metadata": {
        "colab": {
          "base_uri": "https://localhost:8080/",
          "height": 206
        },
        "id": "l5lXgydzGGmB",
        "outputId": "67bf0657-3b4c-48c8-9f94-9d770d072867"
      },
      "execution_count": null,
      "outputs": [
        {
          "output_type": "execute_result",
          "data": {
            "text/plain": [
              "   fixed acidity  volatile acidity  citric acid  residual sugar  chlorides  \\\n",
              "0            7.4              0.70         0.00             1.9      0.076   \n",
              "1            7.8              0.88         0.00             2.6      0.098   \n",
              "2            7.8              0.76         0.04             2.3      0.092   \n",
              "3           11.2              0.28         0.56             1.9      0.075   \n",
              "4            7.4              0.70         0.00             1.9      0.076   \n",
              "\n",
              "   free sulfur dioxide  total sulfur dioxide  density    pH  sulphates  \\\n",
              "0                 11.0                  34.0   0.9978  3.51       0.56   \n",
              "1                 25.0                  67.0   0.9968  3.20       0.68   \n",
              "2                 15.0                  54.0   0.9970  3.26       0.65   \n",
              "3                 17.0                  60.0   0.9980  3.16       0.58   \n",
              "4                 11.0                  34.0   0.9978  3.51       0.56   \n",
              "\n",
              "   alcohol  quality  \n",
              "0      9.4        5  \n",
              "1      9.8        5  \n",
              "2      9.8        5  \n",
              "3      9.8        6  \n",
              "4      9.4        5  "
            ],
            "text/html": [
              "\n",
              "  <div id=\"df-5f8f4160-9900-489b-8766-e989a2ccb0d1\">\n",
              "    <div class=\"colab-df-container\">\n",
              "      <div>\n",
              "<style scoped>\n",
              "    .dataframe tbody tr th:only-of-type {\n",
              "        vertical-align: middle;\n",
              "    }\n",
              "\n",
              "    .dataframe tbody tr th {\n",
              "        vertical-align: top;\n",
              "    }\n",
              "\n",
              "    .dataframe thead th {\n",
              "        text-align: right;\n",
              "    }\n",
              "</style>\n",
              "<table border=\"1\" class=\"dataframe\">\n",
              "  <thead>\n",
              "    <tr style=\"text-align: right;\">\n",
              "      <th></th>\n",
              "      <th>fixed acidity</th>\n",
              "      <th>volatile acidity</th>\n",
              "      <th>citric acid</th>\n",
              "      <th>residual sugar</th>\n",
              "      <th>chlorides</th>\n",
              "      <th>free sulfur dioxide</th>\n",
              "      <th>total sulfur dioxide</th>\n",
              "      <th>density</th>\n",
              "      <th>pH</th>\n",
              "      <th>sulphates</th>\n",
              "      <th>alcohol</th>\n",
              "      <th>quality</th>\n",
              "    </tr>\n",
              "  </thead>\n",
              "  <tbody>\n",
              "    <tr>\n",
              "      <th>0</th>\n",
              "      <td>7.4</td>\n",
              "      <td>0.70</td>\n",
              "      <td>0.00</td>\n",
              "      <td>1.9</td>\n",
              "      <td>0.076</td>\n",
              "      <td>11.0</td>\n",
              "      <td>34.0</td>\n",
              "      <td>0.9978</td>\n",
              "      <td>3.51</td>\n",
              "      <td>0.56</td>\n",
              "      <td>9.4</td>\n",
              "      <td>5</td>\n",
              "    </tr>\n",
              "    <tr>\n",
              "      <th>1</th>\n",
              "      <td>7.8</td>\n",
              "      <td>0.88</td>\n",
              "      <td>0.00</td>\n",
              "      <td>2.6</td>\n",
              "      <td>0.098</td>\n",
              "      <td>25.0</td>\n",
              "      <td>67.0</td>\n",
              "      <td>0.9968</td>\n",
              "      <td>3.20</td>\n",
              "      <td>0.68</td>\n",
              "      <td>9.8</td>\n",
              "      <td>5</td>\n",
              "    </tr>\n",
              "    <tr>\n",
              "      <th>2</th>\n",
              "      <td>7.8</td>\n",
              "      <td>0.76</td>\n",
              "      <td>0.04</td>\n",
              "      <td>2.3</td>\n",
              "      <td>0.092</td>\n",
              "      <td>15.0</td>\n",
              "      <td>54.0</td>\n",
              "      <td>0.9970</td>\n",
              "      <td>3.26</td>\n",
              "      <td>0.65</td>\n",
              "      <td>9.8</td>\n",
              "      <td>5</td>\n",
              "    </tr>\n",
              "    <tr>\n",
              "      <th>3</th>\n",
              "      <td>11.2</td>\n",
              "      <td>0.28</td>\n",
              "      <td>0.56</td>\n",
              "      <td>1.9</td>\n",
              "      <td>0.075</td>\n",
              "      <td>17.0</td>\n",
              "      <td>60.0</td>\n",
              "      <td>0.9980</td>\n",
              "      <td>3.16</td>\n",
              "      <td>0.58</td>\n",
              "      <td>9.8</td>\n",
              "      <td>6</td>\n",
              "    </tr>\n",
              "    <tr>\n",
              "      <th>4</th>\n",
              "      <td>7.4</td>\n",
              "      <td>0.70</td>\n",
              "      <td>0.00</td>\n",
              "      <td>1.9</td>\n",
              "      <td>0.076</td>\n",
              "      <td>11.0</td>\n",
              "      <td>34.0</td>\n",
              "      <td>0.9978</td>\n",
              "      <td>3.51</td>\n",
              "      <td>0.56</td>\n",
              "      <td>9.4</td>\n",
              "      <td>5</td>\n",
              "    </tr>\n",
              "  </tbody>\n",
              "</table>\n",
              "</div>\n",
              "      <button class=\"colab-df-convert\" onclick=\"convertToInteractive('df-5f8f4160-9900-489b-8766-e989a2ccb0d1')\"\n",
              "              title=\"Convert this dataframe to an interactive table.\"\n",
              "              style=\"display:none;\">\n",
              "        \n",
              "  <svg xmlns=\"http://www.w3.org/2000/svg\" height=\"24px\"viewBox=\"0 0 24 24\"\n",
              "       width=\"24px\">\n",
              "    <path d=\"M0 0h24v24H0V0z\" fill=\"none\"/>\n",
              "    <path d=\"M18.56 5.44l.94 2.06.94-2.06 2.06-.94-2.06-.94-.94-2.06-.94 2.06-2.06.94zm-11 1L8.5 8.5l.94-2.06 2.06-.94-2.06-.94L8.5 2.5l-.94 2.06-2.06.94zm10 10l.94 2.06.94-2.06 2.06-.94-2.06-.94-.94-2.06-.94 2.06-2.06.94z\"/><path d=\"M17.41 7.96l-1.37-1.37c-.4-.4-.92-.59-1.43-.59-.52 0-1.04.2-1.43.59L10.3 9.45l-7.72 7.72c-.78.78-.78 2.05 0 2.83L4 21.41c.39.39.9.59 1.41.59.51 0 1.02-.2 1.41-.59l7.78-7.78 2.81-2.81c.8-.78.8-2.07 0-2.86zM5.41 20L4 18.59l7.72-7.72 1.47 1.35L5.41 20z\"/>\n",
              "  </svg>\n",
              "      </button>\n",
              "      \n",
              "  <style>\n",
              "    .colab-df-container {\n",
              "      display:flex;\n",
              "      flex-wrap:wrap;\n",
              "      gap: 12px;\n",
              "    }\n",
              "\n",
              "    .colab-df-convert {\n",
              "      background-color: #E8F0FE;\n",
              "      border: none;\n",
              "      border-radius: 50%;\n",
              "      cursor: pointer;\n",
              "      display: none;\n",
              "      fill: #1967D2;\n",
              "      height: 32px;\n",
              "      padding: 0 0 0 0;\n",
              "      width: 32px;\n",
              "    }\n",
              "\n",
              "    .colab-df-convert:hover {\n",
              "      background-color: #E2EBFA;\n",
              "      box-shadow: 0px 1px 2px rgba(60, 64, 67, 0.3), 0px 1px 3px 1px rgba(60, 64, 67, 0.15);\n",
              "      fill: #174EA6;\n",
              "    }\n",
              "\n",
              "    [theme=dark] .colab-df-convert {\n",
              "      background-color: #3B4455;\n",
              "      fill: #D2E3FC;\n",
              "    }\n",
              "\n",
              "    [theme=dark] .colab-df-convert:hover {\n",
              "      background-color: #434B5C;\n",
              "      box-shadow: 0px 1px 3px 1px rgba(0, 0, 0, 0.15);\n",
              "      filter: drop-shadow(0px 1px 2px rgba(0, 0, 0, 0.3));\n",
              "      fill: #FFFFFF;\n",
              "    }\n",
              "  </style>\n",
              "\n",
              "      <script>\n",
              "        const buttonEl =\n",
              "          document.querySelector('#df-5f8f4160-9900-489b-8766-e989a2ccb0d1 button.colab-df-convert');\n",
              "        buttonEl.style.display =\n",
              "          google.colab.kernel.accessAllowed ? 'block' : 'none';\n",
              "\n",
              "        async function convertToInteractive(key) {\n",
              "          const element = document.querySelector('#df-5f8f4160-9900-489b-8766-e989a2ccb0d1');\n",
              "          const dataTable =\n",
              "            await google.colab.kernel.invokeFunction('convertToInteractive',\n",
              "                                                     [key], {});\n",
              "          if (!dataTable) return;\n",
              "\n",
              "          const docLinkHtml = 'Like what you see? Visit the ' +\n",
              "            '<a target=\"_blank\" href=https://colab.research.google.com/notebooks/data_table.ipynb>data table notebook</a>'\n",
              "            + ' to learn more about interactive tables.';\n",
              "          element.innerHTML = '';\n",
              "          dataTable['output_type'] = 'display_data';\n",
              "          await google.colab.output.renderOutput(dataTable, element);\n",
              "          const docLink = document.createElement('div');\n",
              "          docLink.innerHTML = docLinkHtml;\n",
              "          element.appendChild(docLink);\n",
              "        }\n",
              "      </script>\n",
              "    </div>\n",
              "  </div>\n",
              "  "
            ]
          },
          "metadata": {},
          "execution_count": 6
        }
      ]
    },
    {
      "cell_type": "code",
      "source": [
        "feature_list = data.columns[:-1].values\n",
        "Label = [data.columns[-1]]\n",
        "print('Feature List:',feature_list)\n",
        "print('Label:',Label)"
      ],
      "metadata": {
        "colab": {
          "base_uri": "https://localhost:8080/"
        },
        "id": "wfZhA-5PGZZp",
        "outputId": "7d225a32-f5d6-40a7-93b7-f8032be4785d"
      },
      "execution_count": null,
      "outputs": [
        {
          "output_type": "stream",
          "name": "stdout",
          "text": [
            "Feature List: ['fixed acidity' 'volatile acidity' 'citric acid' 'residual sugar'\n",
            " 'chlorides' 'free sulfur dioxide' 'total sulfur dioxide' 'density' 'pH'\n",
            " 'sulphates' 'alcohol']\n",
            "Label: ['quality']\n"
          ]
        }
      ]
    },
    {
      "cell_type": "code",
      "source": [
        "data.info()"
      ],
      "metadata": {
        "colab": {
          "base_uri": "https://localhost:8080/"
        },
        "id": "6qz1tPsOIhP5",
        "outputId": "ba26fcdc-df6f-4e1b-b4b0-80eec5a6e445"
      },
      "execution_count": null,
      "outputs": [
        {
          "output_type": "stream",
          "name": "stdout",
          "text": [
            "<class 'pandas.core.frame.DataFrame'>\n",
            "RangeIndex: 1599 entries, 0 to 1598\n",
            "Data columns (total 12 columns):\n",
            " #   Column                Non-Null Count  Dtype  \n",
            "---  ------                --------------  -----  \n",
            " 0   fixed acidity         1599 non-null   float64\n",
            " 1   volatile acidity      1599 non-null   float64\n",
            " 2   citric acid           1599 non-null   float64\n",
            " 3   residual sugar        1599 non-null   float64\n",
            " 4   chlorides             1599 non-null   float64\n",
            " 5   free sulfur dioxide   1599 non-null   float64\n",
            " 6   total sulfur dioxide  1599 non-null   float64\n",
            " 7   density               1599 non-null   float64\n",
            " 8   pH                    1599 non-null   float64\n",
            " 9   sulphates             1599 non-null   float64\n",
            " 10  alcohol               1599 non-null   float64\n",
            " 11  quality               1599 non-null   int64  \n",
            "dtypes: float64(11), int64(1)\n",
            "memory usage: 150.0 KB\n"
          ]
        }
      ]
    },
    {
      "cell_type": "code",
      "source": [
        "data.describe()"
      ],
      "metadata": {
        "colab": {
          "base_uri": "https://localhost:8080/",
          "height": 362
        },
        "id": "aOqR-QIzI0WB",
        "outputId": "dc03b0c3-07e4-482f-b9a7-549a7f6d58da"
      },
      "execution_count": null,
      "outputs": [
        {
          "output_type": "execute_result",
          "data": {
            "text/plain": [
              "       fixed acidity  volatile acidity  citric acid  residual sugar  \\\n",
              "count    1599.000000       1599.000000  1599.000000     1599.000000   \n",
              "mean        8.319637          0.527821     0.270976        2.538806   \n",
              "std         1.741096          0.179060     0.194801        1.409928   \n",
              "min         4.600000          0.120000     0.000000        0.900000   \n",
              "25%         7.100000          0.390000     0.090000        1.900000   \n",
              "50%         7.900000          0.520000     0.260000        2.200000   \n",
              "75%         9.200000          0.640000     0.420000        2.600000   \n",
              "max        15.900000          1.580000     1.000000       15.500000   \n",
              "\n",
              "         chlorides  free sulfur dioxide  total sulfur dioxide      density  \\\n",
              "count  1599.000000          1599.000000           1599.000000  1599.000000   \n",
              "mean      0.087467            15.874922             46.467792     0.996747   \n",
              "std       0.047065            10.460157             32.895324     0.001887   \n",
              "min       0.012000             1.000000              6.000000     0.990070   \n",
              "25%       0.070000             7.000000             22.000000     0.995600   \n",
              "50%       0.079000            14.000000             38.000000     0.996750   \n",
              "75%       0.090000            21.000000             62.000000     0.997835   \n",
              "max       0.611000            72.000000            289.000000     1.003690   \n",
              "\n",
              "                pH    sulphates      alcohol      quality  \n",
              "count  1599.000000  1599.000000  1599.000000  1599.000000  \n",
              "mean      3.311113     0.658149    10.422983     5.636023  \n",
              "std       0.154386     0.169507     1.065668     0.807569  \n",
              "min       2.740000     0.330000     8.400000     3.000000  \n",
              "25%       3.210000     0.550000     9.500000     5.000000  \n",
              "50%       3.310000     0.620000    10.200000     6.000000  \n",
              "75%       3.400000     0.730000    11.100000     6.000000  \n",
              "max       4.010000     2.000000    14.900000     8.000000  "
            ],
            "text/html": [
              "\n",
              "  <div id=\"df-ea8d3ad2-3684-4208-a5e3-2f24ae8dfa90\">\n",
              "    <div class=\"colab-df-container\">\n",
              "      <div>\n",
              "<style scoped>\n",
              "    .dataframe tbody tr th:only-of-type {\n",
              "        vertical-align: middle;\n",
              "    }\n",
              "\n",
              "    .dataframe tbody tr th {\n",
              "        vertical-align: top;\n",
              "    }\n",
              "\n",
              "    .dataframe thead th {\n",
              "        text-align: right;\n",
              "    }\n",
              "</style>\n",
              "<table border=\"1\" class=\"dataframe\">\n",
              "  <thead>\n",
              "    <tr style=\"text-align: right;\">\n",
              "      <th></th>\n",
              "      <th>fixed acidity</th>\n",
              "      <th>volatile acidity</th>\n",
              "      <th>citric acid</th>\n",
              "      <th>residual sugar</th>\n",
              "      <th>chlorides</th>\n",
              "      <th>free sulfur dioxide</th>\n",
              "      <th>total sulfur dioxide</th>\n",
              "      <th>density</th>\n",
              "      <th>pH</th>\n",
              "      <th>sulphates</th>\n",
              "      <th>alcohol</th>\n",
              "      <th>quality</th>\n",
              "    </tr>\n",
              "  </thead>\n",
              "  <tbody>\n",
              "    <tr>\n",
              "      <th>count</th>\n",
              "      <td>1599.000000</td>\n",
              "      <td>1599.000000</td>\n",
              "      <td>1599.000000</td>\n",
              "      <td>1599.000000</td>\n",
              "      <td>1599.000000</td>\n",
              "      <td>1599.000000</td>\n",
              "      <td>1599.000000</td>\n",
              "      <td>1599.000000</td>\n",
              "      <td>1599.000000</td>\n",
              "      <td>1599.000000</td>\n",
              "      <td>1599.000000</td>\n",
              "      <td>1599.000000</td>\n",
              "    </tr>\n",
              "    <tr>\n",
              "      <th>mean</th>\n",
              "      <td>8.319637</td>\n",
              "      <td>0.527821</td>\n",
              "      <td>0.270976</td>\n",
              "      <td>2.538806</td>\n",
              "      <td>0.087467</td>\n",
              "      <td>15.874922</td>\n",
              "      <td>46.467792</td>\n",
              "      <td>0.996747</td>\n",
              "      <td>3.311113</td>\n",
              "      <td>0.658149</td>\n",
              "      <td>10.422983</td>\n",
              "      <td>5.636023</td>\n",
              "    </tr>\n",
              "    <tr>\n",
              "      <th>std</th>\n",
              "      <td>1.741096</td>\n",
              "      <td>0.179060</td>\n",
              "      <td>0.194801</td>\n",
              "      <td>1.409928</td>\n",
              "      <td>0.047065</td>\n",
              "      <td>10.460157</td>\n",
              "      <td>32.895324</td>\n",
              "      <td>0.001887</td>\n",
              "      <td>0.154386</td>\n",
              "      <td>0.169507</td>\n",
              "      <td>1.065668</td>\n",
              "      <td>0.807569</td>\n",
              "    </tr>\n",
              "    <tr>\n",
              "      <th>min</th>\n",
              "      <td>4.600000</td>\n",
              "      <td>0.120000</td>\n",
              "      <td>0.000000</td>\n",
              "      <td>0.900000</td>\n",
              "      <td>0.012000</td>\n",
              "      <td>1.000000</td>\n",
              "      <td>6.000000</td>\n",
              "      <td>0.990070</td>\n",
              "      <td>2.740000</td>\n",
              "      <td>0.330000</td>\n",
              "      <td>8.400000</td>\n",
              "      <td>3.000000</td>\n",
              "    </tr>\n",
              "    <tr>\n",
              "      <th>25%</th>\n",
              "      <td>7.100000</td>\n",
              "      <td>0.390000</td>\n",
              "      <td>0.090000</td>\n",
              "      <td>1.900000</td>\n",
              "      <td>0.070000</td>\n",
              "      <td>7.000000</td>\n",
              "      <td>22.000000</td>\n",
              "      <td>0.995600</td>\n",
              "      <td>3.210000</td>\n",
              "      <td>0.550000</td>\n",
              "      <td>9.500000</td>\n",
              "      <td>5.000000</td>\n",
              "    </tr>\n",
              "    <tr>\n",
              "      <th>50%</th>\n",
              "      <td>7.900000</td>\n",
              "      <td>0.520000</td>\n",
              "      <td>0.260000</td>\n",
              "      <td>2.200000</td>\n",
              "      <td>0.079000</td>\n",
              "      <td>14.000000</td>\n",
              "      <td>38.000000</td>\n",
              "      <td>0.996750</td>\n",
              "      <td>3.310000</td>\n",
              "      <td>0.620000</td>\n",
              "      <td>10.200000</td>\n",
              "      <td>6.000000</td>\n",
              "    </tr>\n",
              "    <tr>\n",
              "      <th>75%</th>\n",
              "      <td>9.200000</td>\n",
              "      <td>0.640000</td>\n",
              "      <td>0.420000</td>\n",
              "      <td>2.600000</td>\n",
              "      <td>0.090000</td>\n",
              "      <td>21.000000</td>\n",
              "      <td>62.000000</td>\n",
              "      <td>0.997835</td>\n",
              "      <td>3.400000</td>\n",
              "      <td>0.730000</td>\n",
              "      <td>11.100000</td>\n",
              "      <td>6.000000</td>\n",
              "    </tr>\n",
              "    <tr>\n",
              "      <th>max</th>\n",
              "      <td>15.900000</td>\n",
              "      <td>1.580000</td>\n",
              "      <td>1.000000</td>\n",
              "      <td>15.500000</td>\n",
              "      <td>0.611000</td>\n",
              "      <td>72.000000</td>\n",
              "      <td>289.000000</td>\n",
              "      <td>1.003690</td>\n",
              "      <td>4.010000</td>\n",
              "      <td>2.000000</td>\n",
              "      <td>14.900000</td>\n",
              "      <td>8.000000</td>\n",
              "    </tr>\n",
              "  </tbody>\n",
              "</table>\n",
              "</div>\n",
              "      <button class=\"colab-df-convert\" onclick=\"convertToInteractive('df-ea8d3ad2-3684-4208-a5e3-2f24ae8dfa90')\"\n",
              "              title=\"Convert this dataframe to an interactive table.\"\n",
              "              style=\"display:none;\">\n",
              "        \n",
              "  <svg xmlns=\"http://www.w3.org/2000/svg\" height=\"24px\"viewBox=\"0 0 24 24\"\n",
              "       width=\"24px\">\n",
              "    <path d=\"M0 0h24v24H0V0z\" fill=\"none\"/>\n",
              "    <path d=\"M18.56 5.44l.94 2.06.94-2.06 2.06-.94-2.06-.94-.94-2.06-.94 2.06-2.06.94zm-11 1L8.5 8.5l.94-2.06 2.06-.94-2.06-.94L8.5 2.5l-.94 2.06-2.06.94zm10 10l.94 2.06.94-2.06 2.06-.94-2.06-.94-.94-2.06-.94 2.06-2.06.94z\"/><path d=\"M17.41 7.96l-1.37-1.37c-.4-.4-.92-.59-1.43-.59-.52 0-1.04.2-1.43.59L10.3 9.45l-7.72 7.72c-.78.78-.78 2.05 0 2.83L4 21.41c.39.39.9.59 1.41.59.51 0 1.02-.2 1.41-.59l7.78-7.78 2.81-2.81c.8-.78.8-2.07 0-2.86zM5.41 20L4 18.59l7.72-7.72 1.47 1.35L5.41 20z\"/>\n",
              "  </svg>\n",
              "      </button>\n",
              "      \n",
              "  <style>\n",
              "    .colab-df-container {\n",
              "      display:flex;\n",
              "      flex-wrap:wrap;\n",
              "      gap: 12px;\n",
              "    }\n",
              "\n",
              "    .colab-df-convert {\n",
              "      background-color: #E8F0FE;\n",
              "      border: none;\n",
              "      border-radius: 50%;\n",
              "      cursor: pointer;\n",
              "      display: none;\n",
              "      fill: #1967D2;\n",
              "      height: 32px;\n",
              "      padding: 0 0 0 0;\n",
              "      width: 32px;\n",
              "    }\n",
              "\n",
              "    .colab-df-convert:hover {\n",
              "      background-color: #E2EBFA;\n",
              "      box-shadow: 0px 1px 2px rgba(60, 64, 67, 0.3), 0px 1px 3px 1px rgba(60, 64, 67, 0.15);\n",
              "      fill: #174EA6;\n",
              "    }\n",
              "\n",
              "    [theme=dark] .colab-df-convert {\n",
              "      background-color: #3B4455;\n",
              "      fill: #D2E3FC;\n",
              "    }\n",
              "\n",
              "    [theme=dark] .colab-df-convert:hover {\n",
              "      background-color: #434B5C;\n",
              "      box-shadow: 0px 1px 3px 1px rgba(0, 0, 0, 0.15);\n",
              "      filter: drop-shadow(0px 1px 2px rgba(0, 0, 0, 0.3));\n",
              "      fill: #FFFFFF;\n",
              "    }\n",
              "  </style>\n",
              "\n",
              "      <script>\n",
              "        const buttonEl =\n",
              "          document.querySelector('#df-ea8d3ad2-3684-4208-a5e3-2f24ae8dfa90 button.colab-df-convert');\n",
              "        buttonEl.style.display =\n",
              "          google.colab.kernel.accessAllowed ? 'block' : 'none';\n",
              "\n",
              "        async function convertToInteractive(key) {\n",
              "          const element = document.querySelector('#df-ea8d3ad2-3684-4208-a5e3-2f24ae8dfa90');\n",
              "          const dataTable =\n",
              "            await google.colab.kernel.invokeFunction('convertToInteractive',\n",
              "                                                     [key], {});\n",
              "          if (!dataTable) return;\n",
              "\n",
              "          const docLinkHtml = 'Like what you see? Visit the ' +\n",
              "            '<a target=\"_blank\" href=https://colab.research.google.com/notebooks/data_table.ipynb>data table notebook</a>'\n",
              "            + ' to learn more about interactive tables.';\n",
              "          element.innerHTML = '';\n",
              "          dataTable['output_type'] = 'display_data';\n",
              "          await google.colab.output.renderOutput(dataTable, element);\n",
              "          const docLink = document.createElement('div');\n",
              "          docLink.innerHTML = docLinkHtml;\n",
              "          element.appendChild(docLink);\n",
              "        }\n",
              "      </script>\n",
              "    </div>\n",
              "  </div>\n",
              "  "
            ]
          },
          "metadata": {},
          "execution_count": 11
        }
      ]
    },
    {
      "cell_type": "code",
      "source": [
        "data['quality'].value_counts()"
      ],
      "metadata": {
        "colab": {
          "base_uri": "https://localhost:8080/"
        },
        "id": "YXbloOSlI6zv",
        "outputId": "475fe7a5-02f5-4741-b9d9-344ac583ad5f"
      },
      "execution_count": null,
      "outputs": [
        {
          "output_type": "execute_result",
          "data": {
            "text/plain": [
              "5    681\n",
              "6    638\n",
              "7    199\n",
              "4     53\n",
              "8     18\n",
              "3     10\n",
              "Name: quality, dtype: int64"
            ]
          },
          "metadata": {},
          "execution_count": 12
        }
      ]
    },
    {
      "cell_type": "code",
      "source": [
        "sns.set()\n",
        "data.quality.hist()\n",
        "plt.xlabel('Wine quality')\n",
        "plt.ylabel('Count')"
      ],
      "metadata": {
        "colab": {
          "base_uri": "https://localhost:8080/",
          "height": 302
        },
        "id": "GWtJ8u9DJZ0X",
        "outputId": "7c30e9c2-4711-4fab-ff42-a23bb591f6c4"
      },
      "execution_count": null,
      "outputs": [
        {
          "output_type": "execute_result",
          "data": {
            "text/plain": [
              "Text(0, 0.5, 'Count')"
            ]
          },
          "metadata": {},
          "execution_count": 15
        },
        {
          "output_type": "display_data",
          "data": {
            "text/plain": [
              "<Figure size 432x288 with 1 Axes>"
            ],
            "image/png": "[encoded data removed]"
          },
          "metadata": {}
        }
      ]
    },
    {
      "cell_type": "markdown",
      "source": [
        "# **Split Train Test Data**"
      ],
      "metadata": {
        "id": "lN0MdDebLeu4"
      }
    },
    {
      "cell_type": "code",
      "source": [
        "def split_train_test(data,test_ratio):\n",
        "  # set the random seed.\n",
        "  np.random.seed(42)\n",
        "  # shuffle the dataset.\n",
        "  shuffled_indices = np.random.permutation(len(data))\n",
        "  # calculate the size of the test set.\n",
        "  test_set_size = int(len(data) * test_ratio)\n",
        "  # split dataset to get training and test sets.\n",
        "  test_indices = shuffled_indices[:test_set_size]\n",
        "  train_indices = shuffled_indices[test_set_size:]\n",
        "  return data.iloc[train_indices], data.iloc[test_indices]"
      ],
      "metadata": {
        "id": "RzGOTi3NLsZ5"
      },
      "execution_count": null,
      "outputs": []
    },
    {
      "cell_type": "code",
      "source": [
        "train_set,test_set = split_train_test(data,test_ratio=0.2)"
      ],
      "metadata": {
        "id": "ltl83QqvMwo4"
      },
      "execution_count": null,
      "outputs": []
    },
    {
      "cell_type": "code",
      "source": [
        "from sklearn.model_selection import train_test_split\n",
        "train_set , test_split = train_test_split(data, test_size=0.2,random_state=42)"
      ],
      "metadata": {
        "id": "f4bnfROtNvlW"
      },
      "execution_count": null,
      "outputs": []
    },
    {
      "cell_type": "code",
      "source": [
        "from sklearn.model_selection import StratifiedShuffleSplit\n",
        "split= StratifiedShuffleSplit(n_splits=1,test_size=0.2,random_state=42)\n",
        "for train_index,test_index in split.split(data,data['quality']):\n",
        "  strat_train_set = data.loc[train_index]\n",
        "  strat_test_set = data.loc[test_index]\n"
      ],
      "metadata": {
        "id": "TxWV8LQKQZJ2"
      },
      "execution_count": null,
      "outputs": []
    },
    {
      "cell_type": "code",
      "source": [
        "strat_dist = strat_test_set[\"quality\"].value_counts() / len(strat_test_set)\n",
        "overall_dist = data[\"quality\"].value_counts() / len(data)\n",
        "dist_comparison = pd.DataFrame({'overall': overall_dist, 'stratified': strat_dist})\n",
        "dist_comparison['diff(s-o)'] = dist_comparison['stratified'] - dist_comparison['overall']"
      ],
      "metadata": {
        "id": "zUKWfpqkRpaN"
      },
      "execution_count": null,
      "outputs": []
    },
    {
      "cell_type": "code",
      "source": [
        "dist_comparison"
      ],
      "metadata": {
        "colab": {
          "base_uri": "https://localhost:8080/",
          "height": 237
        },
        "id": "OjyaEkrrTScd",
        "outputId": "2333e054-7aab-491c-deaf-598a063fab79"
      },
      "execution_count": null,
      "outputs": [
        {
          "output_type": "execute_result",
          "data": {
            "text/plain": [
              "    overall  stratified  diff(s-o)\n",
              "5  0.425891    0.425000  -0.000891\n",
              "6  0.398999    0.400000   0.001001\n",
              "7  0.124453    0.125000   0.000547\n",
              "4  0.033146    0.034375   0.001229\n",
              "8  0.011257    0.009375  -0.001882\n",
              "3  0.006254    0.006250  -0.000004"
            ],
            "text/html": [
              "\n",
              "  <div id=\"df-a681142e-0b34-4488-b3dc-75b252391564\">\n",
              "    <div class=\"colab-df-container\">\n",
              "      <div>\n",
              "<style scoped>\n",
              "    .dataframe tbody tr th:only-of-type {\n",
              "        vertical-align: middle;\n",
              "    }\n",
              "\n",
              "    .dataframe tbody tr th {\n",
              "        vertical-align: top;\n",
              "    }\n",
              "\n",
              "    .dataframe thead th {\n",
              "        text-align: right;\n",
              "    }\n",
              "</style>\n",
              "<table border=\"1\" class=\"dataframe\">\n",
              "  <thead>\n",
              "    <tr style=\"text-align: right;\">\n",
              "      <th></th>\n",
              "      <th>overall</th>\n",
              "      <th>stratified</th>\n",
              "      <th>diff(s-o)</th>\n",
              "    </tr>\n",
              "  </thead>\n",
              "  <tbody>\n",
              "    <tr>\n",
              "      <th>5</th>\n",
              "      <td>0.425891</td>\n",
              "      <td>0.425000</td>\n",
              "      <td>-0.000891</td>\n",
              "    </tr>\n",
              "    <tr>\n",
              "      <th>6</th>\n",
              "      <td>0.398999</td>\n",
              "      <td>0.400000</td>\n",
              "      <td>0.001001</td>\n",
              "    </tr>\n",
              "    <tr>\n",
              "      <th>7</th>\n",
              "      <td>0.124453</td>\n",
              "      <td>0.125000</td>\n",
              "      <td>0.000547</td>\n",
              "    </tr>\n",
              "    <tr>\n",
              "      <th>4</th>\n",
              "      <td>0.033146</td>\n",
              "      <td>0.034375</td>\n",
              "      <td>0.001229</td>\n",
              "    </tr>\n",
              "    <tr>\n",
              "      <th>8</th>\n",
              "      <td>0.011257</td>\n",
              "      <td>0.009375</td>\n",
              "      <td>-0.001882</td>\n",
              "    </tr>\n",
              "    <tr>\n",
              "      <th>3</th>\n",
              "      <td>0.006254</td>\n",
              "      <td>0.006250</td>\n",
              "      <td>-0.000004</td>\n",
              "    </tr>\n",
              "  </tbody>\n",
              "</table>\n",
              "</div>\n",
              "      <button class=\"colab-df-convert\" onclick=\"convertToInteractive('df-a681142e-0b34-4488-b3dc-75b252391564')\"\n",
              "              title=\"Convert this dataframe to an interactive table.\"\n",
              "              style=\"display:none;\">\n",
              "        \n",
              "  <svg xmlns=\"http://www.w3.org/2000/svg\" height=\"24px\"viewBox=\"0 0 24 24\"\n",
              "       width=\"24px\">\n",
              "    <path d=\"M0 0h24v24H0V0z\" fill=\"none\"/>\n",
              "    <path d=\"M18.56 5.44l.94 2.06.94-2.06 2.06-.94-2.06-.94-.94-2.06-.94 2.06-2.06.94zm-11 1L8.5 8.5l.94-2.06 2.06-.94-2.06-.94L8.5 2.5l-.94 2.06-2.06.94zm10 10l.94 2.06.94-2.06 2.06-.94-2.06-.94-.94-2.06-.94 2.06-2.06.94z\"/><path d=\"M17.41 7.96l-1.37-1.37c-.4-.4-.92-.59-1.43-.59-.52 0-1.04.2-1.43.59L10.3 9.45l-7.72 7.72c-.78.78-.78 2.05 0 2.83L4 21.41c.39.39.9.59 1.41.59.51 0 1.02-.2 1.41-.59l7.78-7.78 2.81-2.81c.8-.78.8-2.07 0-2.86zM5.41 20L4 18.59l7.72-7.72 1.47 1.35L5.41 20z\"/>\n",
              "  </svg>\n",
              "      </button>\n",
              "      \n",
              "  <style>\n",
              "    .colab-df-container {\n",
              "      display:flex;\n",
              "      flex-wrap:wrap;\n",
              "      gap: 12px;\n",
              "    }\n",
              "\n",
              "    .colab-df-convert {\n",
              "      background-color: #E8F0FE;\n",
              "      border: none;\n",
              "      border-radius: 50%;\n",
              "      cursor: pointer;\n",
              "      display: none;\n",
              "      fill: #1967D2;\n",
              "      height: 32px;\n",
              "      padding: 0 0 0 0;\n",
              "      width: 32px;\n",
              "    }\n",
              "\n",
              "    .colab-df-convert:hover {\n",
              "      background-color: #E2EBFA;\n",
              "      box-shadow: 0px 1px 2px rgba(60, 64, 67, 0.3), 0px 1px 3px 1px rgba(60, 64, 67, 0.15);\n",
              "      fill: #174EA6;\n",
              "    }\n",
              "\n",
              "    [theme=dark] .colab-df-convert {\n",
              "      background-color: #3B4455;\n",
              "      fill: #D2E3FC;\n",
              "    }\n",
              "\n",
              "    [theme=dark] .colab-df-convert:hover {\n",
              "      background-color: #434B5C;\n",
              "      box-shadow: 0px 1px 3px 1px rgba(0, 0, 0, 0.15);\n",
              "      filter: drop-shadow(0px 1px 2px rgba(0, 0, 0, 0.3));\n",
              "      fill: #FFFFFF;\n",
              "    }\n",
              "  </style>\n",
              "\n",
              "      <script>\n",
              "        const buttonEl =\n",
              "          document.querySelector('#df-a681142e-0b34-4488-b3dc-75b252391564 button.colab-df-convert');\n",
              "        buttonEl.style.display =\n",
              "          google.colab.kernel.accessAllowed ? 'block' : 'none';\n",
              "\n",
              "        async function convertToInteractive(key) {\n",
              "          const element = document.querySelector('#df-a681142e-0b34-4488-b3dc-75b252391564');\n",
              "          const dataTable =\n",
              "            await google.colab.kernel.invokeFunction('convertToInteractive',\n",
              "                                                     [key], {});\n",
              "          if (!dataTable) return;\n",
              "\n",
              "          const docLinkHtml = 'Like what you see? Visit the ' +\n",
              "            '<a target=\"_blank\" href=https://colab.research.google.com/notebooks/data_table.ipynb>data table notebook</a>'\n",
              "            + ' to learn more about interactive tables.';\n",
              "          element.innerHTML = '';\n",
              "          dataTable['output_type'] = 'display_data';\n",
              "          await google.colab.output.renderOutput(dataTable, element);\n",
              "          const docLink = document.createElement('div');\n",
              "          docLink.innerHTML = docLinkHtml;\n",
              "          element.appendChild(docLink);\n",
              "        }\n",
              "      </script>\n",
              "    </div>\n",
              "  </div>\n",
              "  "
            ]
          },
          "metadata": {},
          "execution_count": 35
        }
      ]
    },
    {
      "cell_type": "code",
      "source": [
        "random_dist = test_set[\"quality\"].value_counts() / len(test_set)\n",
        "random_dist"
      ],
      "metadata": {
        "colab": {
          "base_uri": "https://localhost:8080/"
        },
        "id": "B_b1ncKCTWLM",
        "outputId": "ccaef107-1e35-4f3b-eb5a-c6be65b223f4"
      },
      "execution_count": null,
      "outputs": [
        {
          "output_type": "execute_result",
          "data": {
            "text/plain": [
              "6    0.413793\n",
              "5    0.407524\n",
              "7    0.131661\n",
              "4    0.028213\n",
              "8    0.015674\n",
              "3    0.003135\n",
              "Name: quality, dtype: float64"
            ]
          },
          "metadata": {},
          "execution_count": 36
        }
      ]
    },
    {
      "cell_type": "code",
      "source": [
        "dist_comparison.loc[:, ['diff(s-o)_pct', 'diff(r-o)_pct']]"
      ],
      "metadata": {
        "id": "MiVKnAMdTeFl"
      },
      "execution_count": null,
      "outputs": []
    },
    {
      "cell_type": "markdown",
      "source": [
        "# Data Visualization"
      ],
      "metadata": {
        "id": "GS8_BgbjGHVI"
      }
    },
    {
      "cell_type": "code",
      "source": [
        "exploration_set = strat_train_set.copy()"
      ],
      "metadata": {
        "id": "XlqZSHLbGPAm"
      },
      "execution_count": null,
      "outputs": []
    },
    {
      "cell_type": "markdown",
      "source": [
        "# Scatter Visualization\n",
        "With seaborn library:\n"
      ],
      "metadata": {
        "id": "6dCcYaMYHUkh"
      }
    },
    {
      "cell_type": "code",
      "source": [
        "sns.scatterplot(x='fixed acidity',y='density',hue='quality',data=exploration_set)"
      ],
      "metadata": {
        "colab": {
          "base_uri": "https://localhost:8080/",
          "height": 296
        },
        "id": "NITRYvbJGzaZ",
        "outputId": "683b4110-0849-44c2-fd8a-c28ff072cd9a"
      },
      "execution_count": null,
      "outputs": [
        {
          "output_type": "execute_result",
          "data": {
            "text/plain": [
              "<matplotlib.axes._subplots.AxesSubplot at 0x7efd41aa9bd0>"
            ]
          },
          "metadata": {},
          "execution_count": 6
        },
        {
          "output_type": "display_data",
          "data": {
            "text/plain": [
              "<Figure size 432x288 with 1 Axes>"
            ],
            "image/png": "[encoded data removed]"
          },
          "metadata": {
            "needs_background": "light"
          }
        }
      ]
    },
    {
      "cell_type": "markdown",
      "source": [
        "With matplotlib:"
      ],
      "metadata": {
        "id": "xYPhvRXpHY7b"
      }
    },
    {
      "cell_type": "code",
      "source": [
        "exploration_set.plot(kind='scatter',x='fixed acidity',y='density',alpha=0.5,c='quality',cmap=plt.get_cmap('jet'))"
      ],
      "metadata": {
        "colab": {
          "base_uri": "https://localhost:8080/",
          "height": 275
        },
        "id": "0WuJRpf8HN7k",
        "outputId": "0a3593aa-9a30-4e18-8e1b-870c0273b605"
      },
      "execution_count": null,
      "outputs": [
        {
          "output_type": "execute_result",
          "data": {
            "text/plain": [
              "<matplotlib.axes._subplots.AxesSubplot at 0x7efd419ec110>"
            ]
          },
          "metadata": {},
          "execution_count": 10
        },
        {
          "output_type": "display_data",
          "data": {
            "text/plain": [
              "<Figure size 432x288 with 2 Axes>"
            ],
            "image/png": "[encoded data removed]"
          },
          "metadata": {
            "needs_background": "light"
          }
        }
      ]
    },
    {
      "cell_type": "markdown",
      "source": [
        "Let's calculate correlations between our features.\n"
      ],
      "metadata": {
        "id": "K6LAUfQCKgjm"
      }
    },
    {
      "cell_type": "code",
      "source": [
        "corr_matrix = exploration_set.corr()"
      ],
      "metadata": {
        "id": "sL5noBB1KiDe"
      },
      "execution_count": null,
      "outputs": []
    },
    {
      "cell_type": "code",
      "source": [
        "corr_matrix['quality']"
      ],
      "metadata": {
        "colab": {
          "base_uri": "https://localhost:8080/"
        },
        "id": "SePxldx-KqQ9",
        "outputId": "2808f24b-d0c8-4f55-c7eb-f56061573409"
      },
      "execution_count": null,
      "outputs": [
        {
          "output_type": "execute_result",
          "data": {
            "text/plain": [
              "fixed acidity           0.107940\n",
              "volatile acidity       -0.383249\n",
              "citric acid             0.210802\n",
              "residual sugar          0.003710\n",
              "chlorides              -0.120231\n",
              "free sulfur dioxide    -0.048291\n",
              "total sulfur dioxide   -0.194511\n",
              "density                -0.193009\n",
              "pH                     -0.052063\n",
              "sulphates               0.228050\n",
              "alcohol                 0.481197\n",
              "quality                 1.000000\n",
              "Name: quality, dtype: float64"
            ]
          },
          "metadata": {},
          "execution_count": 12
        }
      ]
    },
    {
      "cell_type": "code",
      "source": [
        "plt.figure(figsize=(14,7))\n",
        "sns.heatmap(corr_matrix,annot=True)"
      ],
      "metadata": {
        "colab": {
          "base_uri": "https://localhost:8080/",
          "height": 533
        },
        "id": "A6uujZtQLlJp",
        "outputId": "8fa6c155-ec1b-4b30-948c-2513fec5aae5"
      },
      "execution_count": null,
      "outputs": [
        {
          "output_type": "execute_result",
          "data": {
            "text/plain": [
              "<matplotlib.axes._subplots.AxesSubplot at 0x7efd3f324410>"
            ]
          },
          "metadata": {},
          "execution_count": 15
        },
        {
          "output_type": "display_data",
          "data": {
            "text/plain": [
              "<Figure size 1008x504 with 2 Axes>"
            ],
            "image/png": "[encoded data removed]"
          },
          "metadata": {
            "needs_background": "light"
          }
        }
      ]
    },
    {
      "cell_type": "code",
      "source": [
        "from pandas.plotting import scatter_matrix\n",
        "attribute_list = ['citric acid', 'pH', 'alcohol', 'sulphates', 'quality']\n",
        "scatter_matrix(exploration_set[attribute_list])"
      ],
      "metadata": {
        "colab": {
          "base_uri": "https://localhost:8080/",
          "height": 736
        },
        "id": "BeHvltuxMV_i",
        "outputId": "47a5c048-56cd-4888-cb0a-65b7a1e6948f"
      },
      "execution_count": null,
      "outputs": [
        {
          "output_type": "execute_result",
          "data": {
            "text/plain": [
              "array([[<matplotlib.axes._subplots.AxesSubplot object at 0x7efd3c464d50>,\n",
              "        <matplotlib.axes._subplots.AxesSubplot object at 0x7efd3c4116d0>,\n",
              "        <matplotlib.axes._subplots.AxesSubplot object at 0x7efd3c43abd0>,\n",
              "        <matplotlib.axes._subplots.AxesSubplot object at 0x7efd3c37e110>,\n",
              "        <matplotlib.axes._subplots.AxesSubplot object at 0x7efd3c3b5610>],\n",
              "       [<matplotlib.axes._subplots.AxesSubplot object at 0x7efd3c36cb10>,\n",
              "        <matplotlib.axes._subplots.AxesSubplot object at 0x7efd3c322fd0>,\n",
              "        <matplotlib.axes._subplots.AxesSubplot object at 0x7efd3c2e4510>,\n",
              "        <matplotlib.axes._subplots.AxesSubplot object at 0x7efd3c2e4550>,\n",
              "        <matplotlib.axes._subplots.AxesSubplot object at 0x7efd3c29bb50>],\n",
              "       [<matplotlib.axes._subplots.AxesSubplot object at 0x7efd3c213490>,\n",
              "        <matplotlib.axes._subplots.AxesSubplot object at 0x7efd3c1cb990>,\n",
              "        <matplotlib.axes._subplots.AxesSubplot object at 0x7efd3c182e90>,\n",
              "        <matplotlib.axes._subplots.AxesSubplot object at 0x7efd3c1453d0>,\n",
              "        <matplotlib.axes._subplots.AxesSubplot object at 0x7efd3c0fc8d0>],\n",
              "       [<matplotlib.axes._subplots.AxesSubplot object at 0x7efd3c131dd0>,\n",
              "        <matplotlib.axes._subplots.AxesSubplot object at 0x7efd3c0f6310>,\n",
              "        <matplotlib.axes._subplots.AxesSubplot object at 0x7efd3c0ab810>,\n",
              "        <matplotlib.axes._subplots.AxesSubplot object at 0x7efd3c063d10>,\n",
              "        <matplotlib.axes._subplots.AxesSubplot object at 0x7efd3c026250>],\n",
              "       [<matplotlib.axes._subplots.AxesSubplot object at 0x7efd3bfdc750>,\n",
              "        <matplotlib.axes._subplots.AxesSubplot object at 0x7efd3bf93c50>,\n",
              "        <matplotlib.axes._subplots.AxesSubplot object at 0x7efd3bf55190>,\n",
              "        <matplotlib.axes._subplots.AxesSubplot object at 0x7efd3bf0b690>,\n",
              "        <matplotlib.axes._subplots.AxesSubplot object at 0x7efd3bec1b90>]],\n",
              "      dtype=object)"
            ]
          },
          "metadata": {},
          "execution_count": 16
        },
        {
          "output_type": "display_data",
          "data": {
            "text/plain": [
              "<Figure size 432x288 with 25 Axes>"
            ],
            "image/png": "[encoded data removed]"
          },
          "metadata": {
            "needs_background": "light"
          }
        }
      ]
    },
    {
      "cell_type": "markdown",
      "source": [
        "# Prepare data for ML algorithm"
      ],
      "metadata": {
        "id": "GzVeAWSzNv36"
      }
    },
    {
      "cell_type": "markdown",
      "source": [
        "Separate features and labels from the training set.\n"
      ],
      "metadata": {
        "id": "hTsOrGQ64HlP"
      }
    },
    {
      "cell_type": "code",
      "source": [
        "# Copy all features leaving aside the label.\n",
        "wine_features = strat_train_set.drop('quality',axis=1)\n",
        "\n",
        "# copy of the lebel list\n",
        "wine_labels = strat_train_set['quality'].copy()\n",
        "\n"
      ],
      "metadata": {
        "id": "GoXo15KRNz45"
      },
      "execution_count": null,
      "outputs": []
    },
    {
      "cell_type": "markdown",
      "source": [
        "Data cleaning"
      ],
      "metadata": {
        "id": "go5W1KR848dJ"
      }
    },
    {
      "cell_type": "code",
      "source": [
        "wine_features.isna().sum()\n",
        "# counts the number of NaN in each column of wine_feature"
      ],
      "metadata": {
        "colab": {
          "base_uri": "https://localhost:8080/"
        },
        "id": "LtygDzO84-oX",
        "outputId": "663521b1-d4bf-4c9a-96ab-c11352ac14b2"
      },
      "execution_count": null,
      "outputs": [
        {
          "output_type": "execute_result",
          "data": {
            "text/plain": [
              "fixed acidity           0\n",
              "volatile acidity        0\n",
              "citric acid             0\n",
              "residual sugar          0\n",
              "chlorides               0\n",
              "free sulfur dioxide     0\n",
              "total sulfur dioxide    0\n",
              "density                 0\n",
              "pH                      0\n",
              "sulphates               0\n",
              "alcohol                 0\n",
              "dtype: int64"
            ]
          },
          "metadata": {},
          "execution_count": 7
        }
      ]
    },
    {
      "cell_type": "markdown",
      "source": [
        "It provides SimpleImputer class for filling up missing values with. say, median value."
      ],
      "metadata": {
        "id": "NozVnsag8eX1"
      }
    },
    {
      "cell_type": "code",
      "source": [
        "from sklearn.impute import SimpleImputer\n",
        "imputer = SimpleImputer(strategy = 'median')"
      ],
      "metadata": {
        "id": "chvuZn4Y8fBJ"
      },
      "execution_count": null,
      "outputs": []
    },
    {
      "cell_type": "markdown",
      "source": [
        "The strategy contains instructions as how to replace the missing values. In this case,\n",
        "we specify that the missing value should be replaced by the median value."
      ],
      "metadata": {
        "id": "atew_jn789B3"
      }
    },
    {
      "cell_type": "code",
      "source": [
        "imputer.fit(wine_features)"
      ],
      "metadata": {
        "colab": {
          "base_uri": "https://localhost:8080/"
        },
        "id": "VlBg_1ya89pO",
        "outputId": "d6444df5-a31e-4a74-b45d-2ae5056e5cfc"
      },
      "execution_count": null,
      "outputs": [
        {
          "output_type": "execute_result",
          "data": {
            "text/plain": [
              "SimpleImputer(strategy='median')"
            ]
          },
          "metadata": {},
          "execution_count": 7
        }
      ]
    },
    {
      "cell_type": "markdown",
      "source": [
        "In case, the features contains non-numeric attributes, they need to be dropped before\n",
        "calling the fit method on imputer object.\n"
      ],
      "metadata": {
        "id": "-EHDhT6e9MHU"
      }
    },
    {
      "cell_type": "code",
      "source": [
        "imputer.statistics_"
      ],
      "metadata": {
        "colab": {
          "base_uri": "https://localhost:8080/"
        },
        "id": "m1xxST5r9R5T",
        "outputId": "a177bd20-3f90-4758-b6ff-609abef120af"
      },
      "execution_count": null,
      "outputs": [
        {
          "output_type": "execute_result",
          "data": {
            "text/plain": [
              "array([ 7.9    ,  0.52   ,  0.26   ,  2.2    ,  0.08   , 14.     ,\n",
              "       39.     ,  0.99675,  3.31   ,  0.62   , 10.2    ])"
            ]
          },
          "metadata": {},
          "execution_count": 12
        }
      ]
    },
    {
      "cell_type": "markdown",
      "source": [
        "Note that these are median values for each feature. We can cross-check it by calculating\n",
        "median on the feature set:"
      ],
      "metadata": {
        "id": "NrOFpk0n9aBm"
      }
    },
    {
      "cell_type": "code",
      "source": [
        "wine_features.median()"
      ],
      "metadata": {
        "colab": {
          "base_uri": "https://localhost:8080/"
        },
        "id": "nHF3ffxm9XKG",
        "outputId": "9327f6bd-3204-4757-8182-d395e8c69733"
      },
      "execution_count": null,
      "outputs": [
        {
          "output_type": "execute_result",
          "data": {
            "text/plain": [
              "fixed acidity            7.90000\n",
              "volatile acidity         0.52000\n",
              "citric acid              0.26000\n",
              "residual sugar           2.20000\n",
              "chlorides                0.08000\n",
              "free sulfur dioxide     14.00000\n",
              "total sulfur dioxide    39.00000\n",
              "density                  0.99675\n",
              "pH                       3.31000\n",
              "sulphates                0.62000\n",
              "alcohol                 10.20000\n",
              "dtype: float64"
            ]
          },
          "metadata": {},
          "execution_count": 13
        }
      ]
    },
    {
      "cell_type": "markdown",
      "source": [
        "Finally we use the trained imputer to transform the training set such that the missing\n",
        "values are replaced by the medians:\n"
      ],
      "metadata": {
        "id": "LgZ6S8ri9fk1"
      }
    },
    {
      "cell_type": "code",
      "source": [
        "tr_features = imputer.transform(wine_features)"
      ],
      "metadata": {
        "id": "NZx1Cuuz9lcu"
      },
      "execution_count": null,
      "outputs": []
    },
    {
      "cell_type": "code",
      "source": [
        "tr_features.shape"
      ],
      "metadata": {
        "colab": {
          "base_uri": "https://localhost:8080/"
        },
        "id": "TMZCV6e09vS_",
        "outputId": "bd821266-b4f1-40a2-aacd-f2eed00b965f"
      },
      "execution_count": null,
      "outputs": [
        {
          "output_type": "execute_result",
          "data": {
            "text/plain": [
              "(1279, 11)"
            ]
          },
          "metadata": {},
          "execution_count": 18
        }
      ]
    },
    {
      "cell_type": "code",
      "source": [
        "wine_features_tr = pd.DataFrame(tr_features, columns=wine_features.columns)"
      ],
      "metadata": {
        "id": "K9QzXSzO-E41"
      },
      "execution_count": null,
      "outputs": []
    },
    {
      "cell_type": "markdown",
      "source": [
        "**Handling text and categorical**"
      ],
      "metadata": {
        "id": "0DwaQEwD-Mkp"
      }
    },
    {
      "cell_type": "markdown",
      "source": [
        " Converting categories to numbers"
      ],
      "metadata": {
        "id": "s7b5iWvu-b3n"
      }
    },
    {
      "cell_type": "code",
      "source": [
        "from sklearn.preprocessing import OrdinalEncoder\n",
        "ordinal_encoder = OrdinalEncoder()"
      ],
      "metadata": {
        "id": "9QEkcnUr-O8F"
      },
      "execution_count": null,
      "outputs": []
    },
    {
      "cell_type": "markdown",
      "source": [
        "* Call fit_transform() method on ordinal_encoder object to convert text to numbers.\n",
        "* The list of categories can be obtained via categories_ instance variable.\n",
        "\n",
        "One issue with this representation is that the ML algorithm would assume that the\n",
        "two nearby values are closer than the distinct ones."
      ],
      "metadata": {
        "id": "MamikyZc-9Kx"
      }
    },
    {
      "cell_type": "markdown",
      "source": [
        "**Using one hot encoding**\n",
        "* Here we create one binary feature per category - the feature value is 1 when the category is present else it is 0.\n",
        "* Only one feature is 1 (hot) and the rest are 0 (cold).\n",
        "* The new features are referred to as dummy features.\n",
        "* Scikit-Learn provides a OneHotEncoder class to convert categorical values into one-hot vectors."
      ],
      "metadata": {
        "id": "YbOJYpX4_Q5-"
      }
    },
    {
      "cell_type": "code",
      "source": [
        "from sklearn.preprocessing import OneHotEncoder\n",
        "cat_encoder = OneHotEncoder()"
      ],
      "metadata": {
        "id": "WqdpJ5y2_Fae"
      },
      "execution_count": null,
      "outputs": []
    },
    {
      "cell_type": "markdown",
      "source": [
        "**Transformation Pipelinet**"
      ],
      "metadata": {
        "id": "InmPxPuHAK5I"
      }
    },
    {
      "cell_type": "code",
      "source": [
        "from sklearn.pipeline import Pipeline\n",
        "from sklearn.preprocessing import StandardScaler\n",
        "transform_pipeline = Pipeline([('imputer',SimpleImputer(strategy='median')),('std_scalar',StandardScaler()),])\n",
        "wine_features_tr = transform_pipeline.fit_transform(wine_features)"
      ],
      "metadata": {
        "id": "ATxDlAKFANy-"
      },
      "execution_count": null,
      "outputs": []
    },
    {
      "cell_type": "markdown",
      "source": [
        "**How to transform mixed features?**"
      ],
      "metadata": {
        "id": "61EPu0oNCn8n"
      }
    },
    {
      "cell_type": "code",
      "source": [
        "from sklearn.compose import ColumnTransformer\n",
        "num_attribs = list(wine_features)\n",
        "cat_attribs = [\"place_of_manufacturing\"]\n",
        "full_pipeline = ColumnTransformer([(\"num\", num_pipeline, num_attribs),(\"cat\", OneHotEncoder(), cat_attribs),])\n",
        "wine_features_tr = full_pipeline.fit_transform(wine_features)"
      ],
      "metadata": {
        "colab": {
          "base_uri": "https://localhost:8080/",
          "height": 217
        },
        "id": "3p03ayrhCqs1",
        "outputId": "a0475bf6-d4d4-489b-e221-6b729303d5cb"
      },
      "execution_count": null,
      "outputs": [
        {
          "output_type": "error",
          "ename": "NameError",
          "evalue": "ignored",
          "traceback": [
            "\u001b[0;31m---------------------------------------------------------------------------\u001b[0m",
            "\u001b[0;31mNameError\u001b[0m                                 Traceback (most recent call last)",
            "\u001b[0;32m<ipython-input-13-d3ec5b0126b1>\u001b[0m in \u001b[0;36m<module>\u001b[0;34m\u001b[0m\n\u001b[1;32m      2\u001b[0m \u001b[0mnum_attribs\u001b[0m \u001b[0;34m=\u001b[0m \u001b[0mlist\u001b[0m\u001b[0;34m(\u001b[0m\u001b[0mwine_features\u001b[0m\u001b[0;34m)\u001b[0m\u001b[0;34m\u001b[0m\u001b[0;34m\u001b[0m\u001b[0m\n\u001b[1;32m      3\u001b[0m \u001b[0mcat_attribs\u001b[0m \u001b[0;34m=\u001b[0m \u001b[0;34m[\u001b[0m\u001b[0;34m\"place_of_manufacturing\"\u001b[0m\u001b[0;34m]\u001b[0m\u001b[0;34m\u001b[0m\u001b[0;34m\u001b[0m\u001b[0m\n\u001b[0;32m----> 4\u001b[0;31m \u001b[0mfull_pipeline\u001b[0m \u001b[0;34m=\u001b[0m \u001b[0mColumnTransformer\u001b[0m\u001b[0;34m(\u001b[0m\u001b[0;34m[\u001b[0m\u001b[0;34m(\u001b[0m\u001b[0;34m\"num\"\u001b[0m\u001b[0;34m,\u001b[0m \u001b[0mnum_pipeline\u001b[0m\u001b[0;34m,\u001b[0m \u001b[0mnum_attribs\u001b[0m\u001b[0;34m)\u001b[0m\u001b[0;34m,\u001b[0m\u001b[0;34m(\u001b[0m\u001b[0;34m\"cat\"\u001b[0m\u001b[0;34m,\u001b[0m \u001b[0mOneHotEncoder\u001b[0m\u001b[0;34m(\u001b[0m\u001b[0;34m)\u001b[0m\u001b[0;34m,\u001b[0m \u001b[0mcat_attribs\u001b[0m\u001b[0;34m)\u001b[0m\u001b[0;34m,\u001b[0m\u001b[0;34m]\u001b[0m\u001b[0;34m)\u001b[0m\u001b[0;34m\u001b[0m\u001b[0;34m\u001b[0m\u001b[0m\n\u001b[0m\u001b[1;32m      5\u001b[0m \u001b[0mwine_features_tr\u001b[0m \u001b[0;34m=\u001b[0m \u001b[0mfull_pipeline\u001b[0m\u001b[0;34m.\u001b[0m\u001b[0mfit_transform\u001b[0m\u001b[0;34m(\u001b[0m\u001b[0mwine_features\u001b[0m\u001b[0;34m)\u001b[0m\u001b[0;34m\u001b[0m\u001b[0;34m\u001b[0m\u001b[0m\n",
            "\u001b[0;31mNameError\u001b[0m: name 'num_pipeline' is not defined"
          ]
        }
      ]
    },
    {
      "cell_type": "markdown",
      "source": [
        "# Select and train ML mode\n",
        "\n",
        "Linear Regression"
      ],
      "metadata": {
        "id": "mCtX30ycDbFI"
      }
    },
    {
      "cell_type": "code",
      "source": [
        "from sklearn.linear_model import LinearRegression\n",
        "lin_reg = LinearRegression()\n",
        "lin_reg.fit(wine_features_tr, wine_labels)"
      ],
      "metadata": {
        "colab": {
          "base_uri": "https://localhost:8080/"
        },
        "id": "y8CsI4uLDdsH",
        "outputId": "679f4c93-43a5-43f9-e786-95a67a4003de"
      },
      "execution_count": null,
      "outputs": [
        {
          "output_type": "execute_result",
          "data": {
            "text/plain": [
              "LinearRegression()"
            ]
          },
          "metadata": {},
          "execution_count": 14
        }
      ]
    },
    {
      "cell_type": "markdown",
      "source": [
        "* For regression models, we use mean squared error as an evaluation measure."
      ],
      "metadata": {
        "id": "Zt7bnZPhIF_U"
      }
    },
    {
      "cell_type": "code",
      "source": [
        "from sklearn.metrics import mean_squared_error\n",
        "quality_predictions = lin_reg.predict(wine_features_tr)\n",
        "mean_squared_error(wine_labels, quality_predictions) "
      ],
      "metadata": {
        "colab": {
          "base_uri": "https://localhost:8080/"
        },
        "id": "DgRlgJHnIH3Y",
        "outputId": "7b0861db-9461-49ea-e471-42870bfea637"
      },
      "execution_count": null,
      "outputs": [
        {
          "output_type": "execute_result",
          "data": {
            "text/plain": [
              "0.4206571060060277"
            ]
          },
          "metadata": {},
          "execution_count": 15
        }
      ]
    },
    {
      "cell_type": "markdown",
      "source": [
        "Let's evaluate performance on the test set.\n",
        "* We need to first apply transformation on the test set and then apply the model prediction\n",
        "function."
      ],
      "metadata": {
        "id": "RWlXx8eTJCbL"
      }
    },
    {
      "cell_type": "code",
      "source": [
        "# copy all features leaving aside the label.\n",
        "wine_features_test = strat_test_set.drop(\"quality\", axis=1)\n",
        "# copy the label list\n",
        "wine_labels_test = strat_test_set['quality'].copy()\n",
        "# apply transformations\n",
        "wine_features_test_tr = transform_pipeline.fit_transform(wine_features_test)\n",
        "# call predict function and calculate MSE.\n",
        "quality_test_predictions = lin_reg.predict(wine_features_test_tr)\n",
        "mean_squared_error(wine_labels_test, quality_test_predictions)\n"
      ],
      "metadata": {
        "colab": {
          "base_uri": "https://localhost:8080/"
        },
        "id": "ZEZwExxsJEcT",
        "outputId": "1a8b9a28-3aca-4a9a-db5c-fa965981951b"
      },
      "execution_count": null,
      "outputs": [
        {
          "output_type": "execute_result",
          "data": {
            "text/plain": [
              "0.3975913087501518"
            ]
          },
          "metadata": {},
          "execution_count": 16
        }
      ]
    },
    {
      "cell_type": "markdown",
      "source": [
        "Let's visualize the error between the actual and predicted values."
      ],
      "metadata": {
        "id": "nSWC-swoKLW7"
      }
    },
    {
      "cell_type": "code",
      "source": [
        "plt.scatter(wine_labels_test, quality_test_predictions)\n",
        "plt.plot(wine_labels_test, wine_labels_test, 'r-')\n",
        "plt.xlabel('Actual quality')\n",
        "plt.ylabel('Predicted quality')"
      ],
      "metadata": {
        "colab": {
          "base_uri": "https://localhost:8080/",
          "height": 296
        },
        "id": "symTTr9tKMBN",
        "outputId": "36e67a1d-a025-4ec0-ce11-595cb7c9de3b"
      },
      "execution_count": null,
      "outputs": [
        {
          "output_type": "execute_result",
          "data": {
            "text/plain": [
              "Text(0, 0.5, 'Predicted quality')"
            ]
          },
          "metadata": {},
          "execution_count": 17
        },
        {
          "output_type": "display_data",
          "data": {
            "text/plain": [
              "<Figure size 432x288 with 1 Axes>"
            ],
            "image/png": "[encoded data removed]"
          },
          "metadata": {
            "needs_background": "light"
          }
        }
      ]
    },
    {
      "cell_type": "markdown",
      "source": [
        "Let's try another model: DecisionTreeRegressor."
      ],
      "metadata": {
        "id": "jdgtkM8qLT_e"
      }
    },
    {
      "cell_type": "code",
      "source": [
        "from sklearn.tree import DecisionTreeRegressor\n",
        "tree_reg = DecisionTreeRegressor()\n",
        "tree_reg.fit(wine_features_tr,wine_labels)"
      ],
      "metadata": {
        "colab": {
          "base_uri": "https://localhost:8080/"
        },
        "id": "pa8Ckt6CLU0F",
        "outputId": "066fbfe0-6a95-43a7-f251-7db42173851b"
      },
      "execution_count": null,
      "outputs": [
        {
          "output_type": "execute_result",
          "data": {
            "text/plain": [
              "DecisionTreeRegressor()"
            ]
          },
          "metadata": {},
          "execution_count": 18
        }
      ]
    },
    {
      "cell_type": "code",
      "source": [
        "quality_predictions = tree_reg.predict(wine_features_tr)\n",
        "mean_squared_error(wine_labels,quality_predictions)"
      ],
      "metadata": {
        "colab": {
          "base_uri": "https://localhost:8080/"
        },
        "id": "S7S5M2ZzLu5Z",
        "outputId": "f29691c6-6f3f-4633-b9dc-79e151a18558"
      },
      "execution_count": null,
      "outputs": [
        {
          "output_type": "execute_result",
          "data": {
            "text/plain": [
              "0.0"
            ]
          },
          "metadata": {},
          "execution_count": 19
        }
      ]
    },
    {
      "cell_type": "code",
      "source": [
        "quality_test_predictions = tree_reg.predict(wine_features_test_tr)\n",
        "mean_squared_error(wine_labels_test,quality_test_predictions)"
      ],
      "metadata": {
        "colab": {
          "base_uri": "https://localhost:8080/"
        },
        "id": "MMSTPXxLMYRe",
        "outputId": "2ef01df7-498e-4232-8ea6-020cf9ae45f1"
      },
      "execution_count": null,
      "outputs": [
        {
          "output_type": "execute_result",
          "data": {
            "text/plain": [
              "0.590625"
            ]
          },
          "metadata": {},
          "execution_count": 20
        }
      ]
    },
    {
      "cell_type": "markdown",
      "source": [
        "Note that the training error is 0, while the test error is 0.58. This is an example of an\n",
        "overfitted model."
      ],
      "metadata": {
        "id": "4q6uu9K4M8nU"
      }
    },
    {
      "cell_type": "code",
      "source": [
        "plt.scatter(wine_labels_test, quality_test_predictions)\n",
        "plt.plot(wine_labels_test, wine_labels_test, 'r-')\n",
        "plt.xlabel('Actual quality')\n",
        "plt.ylabel('Predicted quality')"
      ],
      "metadata": {
        "colab": {
          "base_uri": "https://localhost:8080/",
          "height": 296
        },
        "id": "Q_g6-lyYM9V2",
        "outputId": "f5aafed6-ffd7-4fa6-9ac7-7ee8b9cf3b7b"
      },
      "execution_count": null,
      "outputs": [
        {
          "output_type": "execute_result",
          "data": {
            "text/plain": [
              "Text(0, 0.5, 'Predicted quality')"
            ]
          },
          "metadata": {},
          "execution_count": 66
        },
        {
          "output_type": "display_data",
          "data": {
            "text/plain": [
              "<Figure size 432x288 with 1 Axes>"
            ],
            "image/png": "[encoded data removed]"
          },
          "metadata": {
            "needs_background": "light"
          }
        }
      ]
    },
    {
      "cell_type": "markdown",
      "source": [
        "We can use cross-validation (CV) for robust evaluation of model performance."
      ],
      "metadata": {
        "id": "m0RTKJ5uN6AU"
      }
    },
    {
      "cell_type": "markdown",
      "source": [
        "Linear Regression CV"
      ],
      "metadata": {
        "id": "pNFf3FgmPQeV"
      }
    },
    {
      "cell_type": "code",
      "source": [
        "from sklearn.model_selection import cross_val_score"
      ],
      "metadata": {
        "id": "gsWQD1fXN6p7"
      },
      "execution_count": null,
      "outputs": []
    },
    {
      "cell_type": "code",
      "source": [
        "def display_scores(scores):\n",
        "  print(\"Scores:\", scores)\n",
        "  print(\"Mean:\", scores.mean())\n",
        "  print(\"Standard deviation:\", scores.std())"
      ],
      "metadata": {
        "id": "Pz6oUChIOR2k"
      },
      "execution_count": null,
      "outputs": []
    },
    {
      "cell_type": "code",
      "source": [
        "scores = cross_val_score(lin_reg, wine_features_tr, wine_labels,scoring=\"neg_mean_squared_error\", cv=10)\n",
        "lin_reg_mse_scores = -scores\n",
        "display_scores(lin_reg_mse_scores)"
      ],
      "metadata": {
        "colab": {
          "base_uri": "https://localhost:8080/"
        },
        "id": "ZVlSlD1aObvk",
        "outputId": "1c59bd6e-dc9f-48bf-a57f-4de130730a9b"
      },
      "execution_count": null,
      "outputs": [
        {
          "output_type": "stream",
          "name": "stdout",
          "text": [
            "Scores: [0.56364537 0.4429824  0.38302744 0.40166681 0.29687635 0.37322622\n",
            " 0.33184855 0.50182048 0.51661311 0.50468542]\n",
            "Mean: 0.431639217212196\n",
            "Standard deviation: 0.0835635973041397\n"
          ]
        }
      ]
    },
    {
      "cell_type": "markdown",
      "source": [
        "Decision tree CV"
      ],
      "metadata": {
        "id": "hwD7SVlCPOJr"
      }
    },
    {
      "cell_type": "code",
      "source": [
        "scores = cross_val_score(tree_reg, wine_features_tr, wine_labels,scoring=\"neg_mean_squared_error\", cv=10)\n",
        "tree_mse_scores = -scores\n",
        "display_scores(tree_mse_scores)"
      ],
      "metadata": {
        "colab": {
          "base_uri": "https://localhost:8080/"
        },
        "id": "SmU-ZafcPOuy",
        "outputId": "edd4f3ff-f51f-4a2a-81ed-88c4e99b09f0"
      },
      "execution_count": null,
      "outputs": [
        {
          "output_type": "stream",
          "name": "stdout",
          "text": [
            "Scores: [0.625      0.703125   0.640625   0.5390625  0.515625   0.6328125\n",
            " 0.6640625  0.6796875  0.921875   1.03149606]\n",
            "Mean: 0.6953371062992126\n",
            "Standard deviation: 0.1530275031252981\n"
          ]
        }
      ]
    },
    {
      "cell_type": "markdown",
      "source": [
        "**Random forest CV**\n",
        "* Random forest model builds multiple decision trees on randomly selected features\n",
        "and then average their predictions.\n",
        "* Building a model on top of other model is called ensemble learning, which is often\n",
        "used to improve performance of ML models.\n"
      ],
      "metadata": {
        "id": "jBonxv5_OQIM"
      }
    },
    {
      "cell_type": "code",
      "source": [
        "from sklearn.ensemble import RandomForestRegressor\n",
        "forest_reg = RandomForestRegressor()\n",
        "forest_reg.fit(wine_features_tr, wine_labels)\n",
        "scores = cross_val_score(forest_reg, wine_features_tr, wine_labels,scoring=\"neg_mean_squared_error\", cv=10)\n",
        "forest_mse_scores = -scores\n",
        "display_scores(forest_mse_scores)"
      ],
      "metadata": {
        "colab": {
          "base_uri": "https://localhost:8080/"
        },
        "id": "ZIkZm40yPudM",
        "outputId": "b0b92132-cfda-4e24-b455-2b3b6c5836bc"
      },
      "execution_count": null,
      "outputs": [
        {
          "output_type": "stream",
          "name": "stdout",
          "text": [
            "Scores: [0.37987578 0.41918359 0.29241172 0.31497656 0.21733203 0.28919766\n",
            " 0.28685    0.39542578 0.43593047 0.46552913]\n",
            "Mean: 0.34967127276082677\n",
            "Standard deviation: 0.07635513598618231\n"
          ]
        }
      ]
    },
    {
      "cell_type": "code",
      "source": [
        "quality_test_predictions = forest_reg.predict(wine_features_test_tr)\n",
        "mean_squared_error(wine_labels_test, quality_test_predictions)"
      ],
      "metadata": {
        "colab": {
          "base_uri": "https://localhost:8080/"
        },
        "id": "8BFiaPCYQNnb",
        "outputId": "0ebd7bb7-7146-42d7-8112-79cbbdab2a50"
      },
      "execution_count": null,
      "outputs": [
        {
          "output_type": "execute_result",
          "data": {
            "text/plain": [
              "0.335561875"
            ]
          },
          "metadata": {},
          "execution_count": 26
        }
      ]
    },
    {
      "cell_type": "code",
      "source": [
        "plt.scatter(wine_labels_test, quality_test_predictions)\n",
        "plt.plot(wine_labels_test, wine_labels_test, 'r-')\n",
        "plt.xlabel('Actual quality')\n",
        "plt.ylabel('Predicted quality')\n"
      ],
      "metadata": {
        "colab": {
          "base_uri": "https://localhost:8080/",
          "height": 296
        },
        "id": "j-2LadLRQP0k",
        "outputId": "b2de0215-d461-4800-dc1d-e1a68f7bd8c3"
      },
      "execution_count": null,
      "outputs": [
        {
          "output_type": "execute_result",
          "data": {
            "text/plain": [
              "Text(0, 0.5, 'Predicted quality')"
            ]
          },
          "metadata": {},
          "execution_count": 27
        },
        {
          "output_type": "display_data",
          "data": {
            "text/plain": [
              "<Figure size 432x288 with 1 Axes>"
            ],
            "image/png": "[encoded data removed]"
          },
          "metadata": {
            "needs_background": "light"
          }
        }
      ]
    },
    {
      "cell_type": "markdown",
      "source": [
        "#  Finetune your model\n",
        "* Grid search"
      ],
      "metadata": {
        "id": "a_IowdsyQTwc"
      }
    },
    {
      "cell_type": "code",
      "source": [
        "from sklearn.model_selection import GridSearchCV\n"
      ],
      "metadata": {
        "id": "Y8Qm0ALcQVpU"
      },
      "execution_count": null,
      "outputs": []
    },
    {
      "cell_type": "markdown",
      "source": [
        "* We need to specify a list of hyperparameters along with the range of values to try.\n",
        "*It automatically evaluates all possible combinations of hyperparameter values using cross-validation.\n",
        "\n",
        "For example, there are number of hyperparameters in RandomForest regression\n",
        "such as:\n",
        "* Number of estimators\n",
        "* Maximum number of features"
      ],
      "metadata": {
        "id": "KOVHX0uSL2O8"
      }
    },
    {
      "cell_type": "code",
      "source": [
        "param_grid = [{'n_estimators': [3, 10, 30], 'max_features': [2, 4, 6, 8]},{'bootstrap': [False], 'n_estimators': [3, 10], 'max_features': [2, 3, 4]}]\n"
      ],
      "metadata": {
        "id": "hzbrS1tWMCRc"
      },
      "execution_count": null,
      "outputs": []
    },
    {
      "cell_type": "markdown",
      "source": [
        "Here the parameter grid contains two combinations:\n",
        "1. The first combination contains n_estimators with 3 values and max_features with\n",
        "4 values.\n",
        "2. The second combination has an additional bootstrap parameter, which is set to\n",
        "False. Note that it was set to its default value, which is True, in the first grid."
      ],
      "metadata": {
        "id": "7EWDUXs1M7r1"
      }
    },
    {
      "cell_type": "markdown",
      "source": [
        "Let's create an object of GridSearchCV:"
      ],
      "metadata": {
        "id": "r5mqZXweNDKb"
      }
    },
    {
      "cell_type": "code",
      "source": [
        "grid_search = GridSearchCV(forest_reg,param_grid,cv=5,scoring='neg_mean_squared_error',return_train_score=True)"
      ],
      "metadata": {
        "id": "4xhjm4x-NI0k"
      },
      "execution_count": null,
      "outputs": []
    },
    {
      "cell_type": "markdown",
      "source": [
        "* In this case, we set cv=5 i.e. using 5 fold cross validation for training the model.\n",
        "* We need to train the model for 18 parameter combinations and each combination\n",
        "would be trained 5 times as we are using cross-validation here.\n",
        "* The total model training runs = 18 × 5 = 90"
      ],
      "metadata": {
        "id": "zWk1U35CNjYT"
      }
    },
    {
      "cell_type": "code",
      "source": [
        "grid_search.fit(wine_features_tr, wine_labels)"
      ],
      "metadata": {
        "colab": {
          "base_uri": "https://localhost:8080/"
        },
        "id": "xXkvSV5eNgXr",
        "outputId": "c15c610a-1e34-4360-926d-df6005cf7157"
      },
      "execution_count": null,
      "outputs": [
        {
          "output_type": "execute_result",
          "data": {
            "text/plain": [
              "GridSearchCV(cv=5, estimator=RandomForestRegressor(),\n",
              "             param_grid=[{'max_features': [2, 4, 6, 8],\n",
              "                          'n_estimators': [3, 10, 30]},\n",
              "                         {'bootstrap': [False], 'max_features': [2, 3, 4],\n",
              "                          'n_estimators': [3, 10]}],\n",
              "             return_train_score=True, scoring='neg_mean_squared_error')"
            ]
          },
          "metadata": {},
          "execution_count": 34
        }
      ]
    },
    {
      "cell_type": "markdown",
      "source": [
        "The best parameter combination can be obtained as follows:"
      ],
      "metadata": {
        "id": "ZLTEGD4mOTTr"
      }
    },
    {
      "cell_type": "code",
      "source": [
        "grid_search.best_params_"
      ],
      "metadata": {
        "colab": {
          "base_uri": "https://localhost:8080/"
        },
        "id": "M9trbawCOMv0",
        "outputId": "0b6470f6-a97a-49ed-fe1d-863eb154ae75"
      },
      "execution_count": null,
      "outputs": [
        {
          "output_type": "execute_result",
          "data": {
            "text/plain": [
              "{'max_features': 8, 'n_estimators': 30}"
            ]
          },
          "metadata": {},
          "execution_count": 35
        }
      ]
    },
    {
      "cell_type": "markdown",
      "source": [
        "Let's find out the error at different parameter settings:"
      ],
      "metadata": {
        "id": "KqKzoVA1OUOr"
      }
    },
    {
      "cell_type": "code",
      "source": [
        "cvres = grid_search.cv_results_\n",
        "for mean_score, params in zip(cvres[\"mean_test_score\"], cvres[\"params\"]):\n",
        " print(-mean_score, params)"
      ],
      "metadata": {
        "colab": {
          "base_uri": "https://localhost:8080/"
        },
        "id": "tEhzm51iOWsi",
        "outputId": "f8bb0b49-aa38-4847-df13-fb1b92b1c8f0"
      },
      "execution_count": null,
      "outputs": [
        {
          "output_type": "stream",
          "name": "stdout",
          "text": [
            "0.47400360838779954 {'max_features': 2, 'n_estimators': 3}\n",
            "0.3820695159313725 {'max_features': 2, 'n_estimators': 10}\n",
            "0.36259332107843134 {'max_features': 2, 'n_estimators': 30}\n",
            "0.46351000816993454 {'max_features': 4, 'n_estimators': 3}\n",
            "0.3900516237745098 {'max_features': 4, 'n_estimators': 10}\n",
            "0.36163882421023963 {'max_features': 4, 'n_estimators': 30}\n",
            "0.4925548066448801 {'max_features': 6, 'n_estimators': 3}\n",
            "0.3833276348039215 {'max_features': 6, 'n_estimators': 10}\n",
            "0.3729384361383442 {'max_features': 6, 'n_estimators': 30}\n",
            "0.4957536764705881 {'max_features': 8, 'n_estimators': 3}\n",
            "0.36639129901960776 {'max_features': 8, 'n_estimators': 10}\n",
            "0.35809586737472765 {'max_features': 8, 'n_estimators': 30}\n",
            "0.49464937363834416 {'bootstrap': False, 'max_features': 2, 'n_estimators': 3}\n",
            "0.37981063112745095 {'bootstrap': False, 'max_features': 2, 'n_estimators': 10}\n",
            "0.4790791802832244 {'bootstrap': False, 'max_features': 3, 'n_estimators': 3}\n",
            "0.3852228860294117 {'bootstrap': False, 'max_features': 3, 'n_estimators': 10}\n",
            "0.4545339733115468 {'bootstrap': False, 'max_features': 4, 'n_estimators': 3}\n",
            "0.3834397365196079 {'bootstrap': False, 'max_features': 4, 'n_estimators': 10}\n"
          ]
        }
      ]
    },
    {
      "cell_type": "markdown",
      "source": [
        "As you can notice the lowest MSE is obtained for the best parameter combination.\n"
      ],
      "metadata": {
        "id": "rlo1Gn_UO-oF"
      }
    },
    {
      "cell_type": "markdown",
      "source": [
        "Let's obtain the best estimator as follows:"
      ],
      "metadata": {
        "id": "B9XYzboiPHjc"
      }
    },
    {
      "cell_type": "code",
      "source": [
        "grid_search.best_estimator_"
      ],
      "metadata": {
        "colab": {
          "base_uri": "https://localhost:8080/"
        },
        "id": "R9G2401_O_Xk",
        "outputId": "4ef47e69-48ed-4a7e-e853-ec9c151e541d"
      },
      "execution_count": null,
      "outputs": [
        {
          "output_type": "execute_result",
          "data": {
            "text/plain": [
              "RandomForestRegressor(max_features=8, n_estimators=30)"
            ]
          },
          "metadata": {},
          "execution_count": 39
        }
      ]
    },
    {
      "cell_type": "markdown",
      "source": [
        "**Note**: GridSearchCV is initialized with refit=True option, which retrains the best estimator on the full training set. This is likely to lead us to a better model as it is trained on a larger dataset."
      ],
      "metadata": {
        "id": "grsWgEoAPYws"
      }
    },
    {
      "cell_type": "markdown",
      "source": [
        "**Randomized Search**\n",
        "* When we have a large hyperparameter space, it is desirable to try\n",
        "RandomizedSearchCV.\n",
        "* It selects a random value for each hyperparameter at the start of each iteration and\n",
        "repeats the process for the given number of random combinations.\n",
        "* It enables us to search hyperparameter space with appropriate budget control"
      ],
      "metadata": {
        "id": "7rKioT5XT83R"
      }
    },
    {
      "cell_type": "code",
      "source": [
        "from sklearn.model_selection import RandomizedSearchCV"
      ],
      "metadata": {
        "id": "ncyfSZg9PV_T"
      },
      "execution_count": null,
      "outputs": []
    },
    {
      "cell_type": "markdown",
      "source": [
        "**Analysis of best model and its errors**\n",
        "Analysis of the model provides useful insights about features. let's obtain the feature\n",
        "importance as learnt by the model:"
      ],
      "metadata": {
        "id": "qyeMsDuKUY3Z"
      }
    },
    {
      "cell_type": "code",
      "source": [
        "feature_importances = grid_search.best_estimator_.feature_importances_"
      ],
      "metadata": {
        "id": "rrGMCrDlUauZ"
      },
      "execution_count": null,
      "outputs": []
    },
    {
      "cell_type": "code",
      "source": [
        "sorted(zip(feature_importances, feature_list), reverse=True)"
      ],
      "metadata": {
        "colab": {
          "base_uri": "https://localhost:8080/"
        },
        "id": "JdRb_o04VEEZ",
        "outputId": "01fa0c56-2cdc-40a2-aaff-6ca818451ebd"
      },
      "execution_count": null,
      "outputs": [
        {
          "output_type": "execute_result",
          "data": {
            "text/plain": [
              "[(0.2650323840568773, 'alcohol'),\n",
              " (0.1355708194789965, 'sulphates'),\n",
              " (0.13370707994135286, 'volatile acidity'),\n",
              " (0.0800148156622445, 'total sulfur dioxide'),\n",
              " (0.06710539655667463, 'pH'),\n",
              " (0.05819567006557504, 'chlorides'),\n",
              " (0.05590705979503504, 'density'),\n",
              " (0.053083516566083316, 'fixed acidity'),\n",
              " (0.0527871546686973, 'residual sugar'),\n",
              " (0.0505414785834641, 'free sulfur dioxide'),\n",
              " (0.04805462462499959, 'citric acid')]"
            ]
          },
          "metadata": {},
          "execution_count": 44
        }
      ]
    },
    {
      "cell_type": "markdown",
      "source": [
        "**Evaluation on test set**\n",
        "Now that we have a reasonable model, we evaluate its performance on the test set. The\n",
        "following steps are involved in the process:\n",
        "1. Transform the test features.\n"
      ],
      "metadata": {
        "id": "qbbtthalVaR6"
      }
    },
    {
      "cell_type": "code",
      "source": [
        "# copy all features leaving aside the label.\n",
        "wine_features_test = strat_test_set.drop(\"quality\", axis=1)\n",
        "# copy the label list\n",
        "wine_labels_test = strat_test_set['quality'].copy()\n",
        "# apply transformations\n",
        "wine_features_test_tr = transform_pipeline.fit_transform(wine_features_test)"
      ],
      "metadata": {
        "id": "ZJjqUvSWVdsR"
      },
      "execution_count": null,
      "outputs": []
    },
    {
      "cell_type": "markdown",
      "source": [
        "2. Use the predict method with the trained model and the test set."
      ],
      "metadata": {
        "id": "ZIzoaI9wVhWT"
      }
    },
    {
      "cell_type": "code",
      "source": [
        "quality_test_predictions = grid_search.best_estimator_.predict(\n",
        " wine_features_test_tr)"
      ],
      "metadata": {
        "id": "8xzwYGwkVh7L"
      },
      "execution_count": null,
      "outputs": []
    },
    {
      "cell_type": "markdown",
      "source": [
        "3. Compare the predicted labels with the actual ones and report the evaluation metrics."
      ],
      "metadata": {
        "id": "rzX04aOYVlOJ"
      }
    },
    {
      "cell_type": "code",
      "source": [
        "mean_squared_error(wine_labels_test, quality_test_predictions)\n"
      ],
      "metadata": {
        "colab": {
          "base_uri": "https://localhost:8080/"
        },
        "id": "He5GdE1oVnc6",
        "outputId": "bd6ba327-d79a-424d-8e25-137be2924b96"
      },
      "execution_count": null,
      "outputs": [
        {
          "output_type": "execute_result",
          "data": {
            "text/plain": [
              "0.3385763888888889"
            ]
          },
          "metadata": {},
          "execution_count": 47
        }
      ]
    },
    {
      "cell_type": "markdown",
      "source": [
        "4. It's a good idea to get 95% confidence interval of the evaluation metric. It can be\n",
        "obtained by the following code:"
      ],
      "metadata": {
        "id": "-QpiKoC5VspK"
      }
    },
    {
      "cell_type": "code",
      "source": [
        "from scipy import stats\n",
        "confidence = 0.95\n",
        "squared_errors = (quality_test_predictions - wine_labels_test) ** 2\n",
        "stats.t.interval(confidence, len(squared_errors) - 1,\n",
        " loc=squared_errors.mean(),\n",
        " scale=stats.sem(squared_errors))"
      ],
      "metadata": {
        "colab": {
          "base_uri": "https://localhost:8080/"
        },
        "id": "5CDpviW9VrmJ",
        "outputId": "9c037069-10a8-41f4-b5e5-58776822581e"
      },
      "execution_count": null,
      "outputs": [
        {
          "output_type": "execute_result",
          "data": {
            "text/plain": [
              "(0.277683591568205, 0.39946918620957284)"
            ]
          },
          "metadata": {},
          "execution_count": 48
        }
      ]
    }
  ]
}